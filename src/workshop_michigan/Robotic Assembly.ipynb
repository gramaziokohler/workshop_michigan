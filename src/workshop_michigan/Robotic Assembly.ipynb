{
 "cells": [
  {
   "cell_type": "code",
   "execution_count": 6,
   "metadata": {},
   "outputs": [
    {
     "name": "stdout",
     "output_type": "stream",
     "text": [
      "The autoreload extension is already loaded. To reload it, use:\n",
      "  %reload_ext autoreload\n"
     ]
    }
   ],
   "source": [
    "from notebook.services.config import ConfigManager\n",
    "cm = ConfigManager()\n",
    "cm.update('livereveal', {'scroll': True,})\n",
    "\n",
    "%load_ext autoreload\n",
    "%autoreload 2\n",
    "\n",
    "import os\n",
    "import sys\n",
    "sys.path.append(os.path.abspath(\".\"))\n",
    "\n",
    "__file__ = os.path.join(os.path.abspath(\".\"), \"examples\", \"__init__.py\")"
   ]
  },
  {
   "cell_type": "markdown",
   "metadata": {
    "slideshow": {
     "slide_type": "slide"
    }
   },
   "source": [
    "# Robotic Assembly\n",
    "\n",
    "<div align=\"center\"><img width=\"600\" src=\"http://gramazio-kohler.arch.ethz.ch/data/ProjectImages/02_Web/M/040/060306_040_ProduktionCurtainWal_SilvanOesterle_023_WM.jpg\" /></div>"
   ]
  },
  {
   "cell_type": "markdown",
   "metadata": {
    "slideshow": {
     "slide_type": "slide"
    }
   },
   "source": [
    "## Attach tool\n",
    "\n",
    "<div align=\"center\"><img width=\"700\" src=\"images/attach_tool.jpg\" /></div>"
   ]
  },
  {
   "cell_type": "code",
   "execution_count": 16,
   "metadata": {
    "slideshow": {
     "slide_type": "slide"
    }
   },
   "outputs": [
    {
     "name": "stderr",
     "output_type": "stream",
     "text": [
      "Twisted reactor is already running\n"
     ]
    },
    {
     "name": "stdout",
     "output_type": "stream",
     "text": [
      "[Frame(Point(-0.282, -0.071, -0.326), Vector(-0.388, 0.351, 0.852), Vector(0.879, -0.136, 0.456))]\n"
     ]
    }
   ],
   "source": [
    "# %load examples/21_attach_tool.py\n",
    "import os\n",
    "from compas.geometry import Frame\n",
    "from compas.datastructures import Mesh\n",
    "from compas_fab.backends import RosClient\n",
    "from compas_fab.robots import PlanningScene\n",
    "from compas_fab.robots import Tool\n",
    "\n",
    "HERE = os.path.dirname(__file__)\n",
    "DATA = os.path.abspath(os.path.join(HERE, \"..\", \"data\"))\n",
    "\n",
    "# create tool from mesh and frame\n",
    "mesh = Mesh.from_stl(os.path.join(DATA, \"vacuum_gripper.stl\"))\n",
    "frame = Frame([0.07, 0, 0], [0, 0, 1], [0, 1, 0])\n",
    "tool = Tool(mesh, frame)\n",
    "\n",
    "with RosClient('localhost') as client:\n",
    "    robot = client.load_robot()\n",
    "    scene = PlanningScene(robot)\n",
    "    robot.attach_tool(tool)\n",
    "\n",
    "    # add attached tool to planning scene\n",
    "    scene.add_attached_tool()\n",
    "\n",
    "    # now we can convert frames at robot's tool tip and flange\n",
    "    frames_tcf = [Frame((-0.309, -0.046, -0.266), (0.276, 0.926, -0.256), (0.879, -0.136, 0.456))]\n",
    "    frames_tcf0 = robot.from_attached_tool_to_tool0(frames_tcf)\n",
    "    print(frames_tcf0)\n",
    "    "
   ]
  },
  {
   "cell_type": "markdown",
   "metadata": {
    "slideshow": {
     "slide_type": "slide"
    }
   },
   "source": [
    "### Examples\n",
    "\n",
    "`21_attach_tool.py`\n",
    "\n",
    "`22_plan_cartesian_motion_with_attached_tool.py`"
   ]
  },
  {
   "cell_type": "markdown",
   "metadata": {
    "slideshow": {
     "slide_type": "slide"
    }
   },
   "source": [
    "### Pick and place\n",
    "\n",
    "<div align=\"center\"><img width=\"600\" src=\"images/pick_and_place1.jpg\" /></div>"
   ]
  },
  {
   "cell_type": "markdown",
   "metadata": {
    "slideshow": {
     "slide_type": "slide"
    }
   },
   "source": [
    "### Pick and place\n",
    "\n",
    "<div align=\"center\"><img width=\"600\" src=\"images/pick_and_place2.jpg\" /></div>"
   ]
  },
  {
   "cell_type": "markdown",
   "metadata": {
    "slideshow": {
     "slide_type": "slide"
    }
   },
   "source": [
    "### Pick and place\n",
    "\n",
    "<div align=\"center\"><img width=\"600\" src=\"images/pick_and_place3.jpg\" /></div>"
   ]
  },
  {
   "cell_type": "markdown",
   "metadata": {
    "slideshow": {
     "slide_type": "slide"
    }
   },
   "source": [
    "### Examples\n",
    "\n",
    "`23_..` to `25..`\n",
    "\n",
    "`20_robot_assembly.ghx`"
   ]
  },
  {
   "cell_type": "markdown",
   "metadata": {
    "slideshow": {
     "slide_type": "slide"
    }
   },
   "source": [
    "# Brick assembly"
   ]
  },
  {
   "cell_type": "markdown",
   "metadata": {
    "slideshow": {
     "slide_type": "slide"
    }
   },
   "source": [
    "## Strecher bond\n",
    "\n",
    "<img width=\"400\" src=\"https://upload.wikimedia.org/wikipedia/commons/thumb/c/c1/Brickwork_in_stretching_bond.svg/540px-Brickwork_in_stretching_bond.svg.png\" />"
   ]
  },
  {
   "cell_type": "markdown",
   "metadata": {
    "slideshow": {
     "slide_type": "slide"
    }
   },
   "source": [
    "## Flemish bond\n",
    "\n",
    "<img width=\"400\" src=\"https://upload.wikimedia.org/wikipedia/commons/thumb/8/86/Brickwork_in_flemish_bond.svg/540px-Brickwork_in_flemish_bond.svg.png\" />"
   ]
  },
  {
   "cell_type": "markdown",
   "metadata": {
    "slideshow": {
     "slide_type": "slide"
    }
   },
   "source": [
    "## Assignment\n",
    "\n",
    "<div align=\"center\"><br><img src=\"images/assignment2_1.jpg\" width=\"700\" /></div>"
   ]
  },
  {
   "cell_type": "code",
   "execution_count": null,
   "metadata": {
    "slideshow": {
     "slide_type": "slide"
    }
   },
   "outputs": [],
   "source": []
  }
 ],
 "metadata": {
  "celltoolbar": "Slideshow",
  "hide_input": false,
  "kernelspec": {
   "display_name": "Python 3",
   "language": "python",
   "name": "python3"
  },
  "language_info": {
   "codemirror_mode": {
    "name": "ipython",
    "version": 3
   },
   "file_extension": ".py",
   "mimetype": "text/x-python",
   "name": "python",
   "nbconvert_exporter": "python",
   "pygments_lexer": "ipython3",
   "version": "3.6.7"
  },
  "rise": {
   "theme": "white"
  }
 },
 "nbformat": 4,
 "nbformat_minor": 2
}
